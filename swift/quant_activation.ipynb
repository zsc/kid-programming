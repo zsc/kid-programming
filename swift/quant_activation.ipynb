{
 "cells": [
  {
   "cell_type": "code",
   "execution_count": 1,
   "metadata": {},
   "outputs": [
    {
     "name": "stdout",
     "output_type": "stream",
     "text": [
      "3.6.9 (default, Apr 18 2020, 01:56:04) \r\n",
      "[GCC 8.4.0]\r\n"
     ]
    }
   ],
   "source": [
    "%include \"EnableIPythonDisplay.swift\"\n",
    "print(Python.version)\n",
    "import TensorFlow"
   ]
  },
  {
   "cell_type": "code",
   "execution_count": 2,
   "metadata": {},
   "outputs": [
    {
     "data": {
      "text/plain": [
       "('inline', 'module://ipykernel.pylab.backend_inline')\n"
      ]
     },
     "execution_count": 2,
     "metadata": {},
     "output_type": "execute_result"
    }
   ],
   "source": [
    "let np = Python.import(\"numpy\")\n",
    "let plt = Python.import(\"matplotlib.pyplot\")\n",
    "//let pd = Python.import(\"pandas\")\n",
    "let cv2 = Python.import(\"cv2\")\n",
    "IPythonDisplay.shell.enable_matplotlib(\"inline\")"
   ]
  },
  {
   "cell_type": "code",
   "execution_count": 3,
   "metadata": {},
   "outputs": [],
   "source": [
    "// Dummy data.\n",
    "let x: Tensor<Float> = Tensor(randomNormal: [100, 4])\n",
    "let y: Tensor<Float> = Tensor(randomNormal: [100, 3])\n",
    "let hiddenSize: Int = 10\n",
    "\n",
    "struct Model: Layer {\n",
    "    var layer1 = Dense<Float>(inputSize: 4, outputSize: hiddenSize, activation: relu)\n",
    "    var layer2 = Dense<Float>(inputSize: hiddenSize, outputSize: hiddenSize, activation: relu)\n",
    "    var layer3 = Dense<Float>(inputSize: hiddenSize, outputSize: 3, activation: identity)\n",
    "    \n",
    "    @differentiable\n",
    "    func callAsFunction(_ input: Tensor<Float>) -> Tensor<Float> {\n",
    "        return input.sequenced(through: layer1, layer2, layer3)\n",
    "    }\n",
    "}"
   ]
  },
  {
   "cell_type": "code",
   "execution_count": 4,
   "metadata": {},
   "outputs": [],
   "source": [
    "//@differentiable\n",
    "func quant_8<T>(_ x: Tensor<T>) -> Tensor<T> where T : TensorFlowFloatingPoint {\n",
    "    let scale = 255 / abs(x).max()\n",
    "    let x_q = round(scale * x) / scale\n",
    "    return x_q\n",
    "}\n",
    "\n",
    "func quant_4<T>(_ x: Tensor<T>) -> Tensor<T> where T : TensorFlowFloatingPoint {\n",
    "    let scale = 15 / abs(x).max()\n",
    "    let x_q = round(scale * x) / scale\n",
    "    return x_q\n",
    "}\n",
    "\n",
    "func quant_2<T>(_ x: Tensor<T>) -> Tensor<T> where T : TensorFlowFloatingPoint {\n",
    "    let scale = 3 / abs(x).max()\n",
    "    let x_q = round(scale * x) / scale\n",
    "    return x_q\n",
    "}\n",
    "\n",
    "func quant_1<T>(_ x: Tensor<T>) -> Tensor<T> where T : TensorFlowFloatingPoint {\n",
    "    let scale = abs(x).max()\n",
    "    let x_q = round(scale * x) / scale\n",
    "    return x_q\n",
    "}\n",
    "\n",
    "@derivative(of: quant_8)\n",
    "func quant_8_Derivative<T>(_ x: Tensor<T>) -> (value: Tensor<T>, pullback: (Tensor<T>) -> Tensor<T>)\n",
    "where T : TensorFlowFloatingPoint {\n",
    "    let y = quant_8(x)\n",
    "    return (value: y, pullback: { v in v})\n",
    "}\n",
    "\n",
    "@derivative(of: quant_4)\n",
    "func quant_4_Derivative<T>(_ x: Tensor<T>) -> (value: Tensor<T>, pullback: (Tensor<T>) -> Tensor<T>)\n",
    "where T : TensorFlowFloatingPoint {\n",
    "    let y = quant_4(x)\n",
    "    return (value: y, pullback: { v in v})\n",
    "}\n",
    "\n",
    "@derivative(of: quant_2)\n",
    "func quant_2_Derivative<T>(_ x: Tensor<T>) -> (value: Tensor<T>, pullback: (Tensor<T>) -> Tensor<T>)\n",
    "where T : TensorFlowFloatingPoint {\n",
    "    let y = quant_2(x)\n",
    "    return (value: y, pullback: { v in v})\n",
    "}\n",
    "\n",
    "@derivative(of: quant_1)\n",
    "func quant_1_Derivative<T>(_ x: Tensor<T>) -> (value: Tensor<T>, pullback: (Tensor<T>) -> Tensor<T>)\n",
    "where T : TensorFlowFloatingPoint {\n",
    "    let y = quant_1(x)\n",
    "    return (value: y, pullback: { v in v})\n",
    "}"
   ]
  },
  {
   "cell_type": "code",
   "execution_count": 5,
   "metadata": {},
   "outputs": [
    {
     "data": {
      "image/png": "[encoded data removed]",
      "text/plain": [
       "<Figure size 432x288 with 1 Axes>"
      ]
     },
     "metadata": {
      "needs_background": "light"
     },
     "output_type": "display_data"
    },
    {
     "data": {
      "image/png": "[encoded data removed]",
      "text/plain": [
       "<Figure size 432x288 with 1 Axes>"
      ]
     },
     "metadata": {
      "needs_background": "light"
     },
     "output_type": "display_data"
    },
    {
     "data": {
      "image/png": "[encoded data removed]",
      "text/plain": [
       "<Figure size 432x288 with 1 Axes>"
      ]
     },
     "metadata": {
      "needs_background": "light"
     },
     "output_type": "display_data"
    },
    {
     "data": {
      "text/plain": [
       "None\n"
      ]
     },
     "execution_count": 5,
     "metadata": {},
     "output_type": "execute_result"
    }
   ],
   "source": [
    "plt.hist(x.flattened().makeNumpyArray())\n",
    "plt.show()\n",
    "plt.hist(round((15 * x / abs(x).max()).flattened()).makeNumpyArray())\n",
    "plt.show()\n",
    "plt.hist(quant_4(x).flattened().makeNumpyArray())\n",
    "plt.show()"
   ]
  },
  {
   "cell_type": "code",
   "execution_count": 6,
   "metadata": {},
   "outputs": [],
   "source": [
    "struct Q8Model: Layer {\n",
    "    var layer1 = Dense<Float>(inputSize: 4, outputSize: hiddenSize, activation: quant_8)\n",
    "    var layer2 = Dense<Float>(inputSize: hiddenSize, outputSize: hiddenSize, activation: quant_8)\n",
    "    var layer3 = Dense<Float>(inputSize: hiddenSize, outputSize: 3, activation: identity)\n",
    "    \n",
    "    @differentiable\n",
    "    func callAsFunction(_ input: Tensor<Float>) -> Tensor<Float> {\n",
    "        return input.sequenced(through: layer1, layer2, layer3)\n",
    "    }\n",
    "}\n",
    "\n",
    "struct Q4Model: Layer {\n",
    "    var layer1 = Dense<Float>(inputSize: 4, outputSize: hiddenSize, activation: quant_4)\n",
    "    var layer2 = Dense<Float>(inputSize: hiddenSize, outputSize: hiddenSize, activation: quant_4)\n",
    "    var layer3 = Dense<Float>(inputSize: hiddenSize, outputSize: 3, activation: identity)\n",
    "    \n",
    "    @differentiable\n",
    "    func callAsFunction(_ input: Tensor<Float>) -> Tensor<Float> {\n",
    "        return input.sequenced(through: layer1, layer2, layer3)\n",
    "    }\n",
    "}\n",
    "\n",
    "struct Q2Model: Layer {\n",
    "    var layer1 = Dense<Float>(inputSize: 4, outputSize: hiddenSize, activation: quant_2)\n",
    "    var layer2 = Dense<Float>(inputSize: hiddenSize, outputSize: hiddenSize, activation: quant_2)\n",
    "    var layer3 = Dense<Float>(inputSize: hiddenSize, outputSize: 3, activation: identity)\n",
    "    \n",
    "    @differentiable\n",
    "    func callAsFunction(_ input: Tensor<Float>) -> Tensor<Float> {\n",
    "        return input.sequenced(through: layer1, layer2, layer3)\n",
    "    }\n",
    "}\n",
    "\n",
    "struct Q1Model: Layer {\n",
    "    var layer1 = Dense<Float>(inputSize: 4, outputSize: hiddenSize, activation: quant_1)\n",
    "    var layer2 = Dense<Float>(inputSize: hiddenSize, outputSize: hiddenSize, activation: quant_1)\n",
    "    var layer3 = Dense<Float>(inputSize: hiddenSize, outputSize: 3, activation: identity)\n",
    "    \n",
    "    @differentiable\n",
    "    func callAsFunction(_ input: Tensor<Float>) -> Tensor<Float> {\n",
    "        return input.sequenced(through: layer1, layer2, layer3)\n",
    "    }\n",
    "}\n",
    "\n",
    "var all_vals = [[Float]]()\n",
    "let learning_rate: Float = 0.001\n",
    "let num_iter : Int = 3000\n",
    "\n",
    "//let loss_func = {l2Loss<Float>($0, $1)}\n",
    "//let loss_func = l2Loss"
   ]
  },
  {
   "cell_type": "code",
   "execution_count": 7,
   "metadata": {},
   "outputs": [],
   "source": [
    "var classifier = Model()\n",
    "let optimizer = SGD(for: classifier, learningRate: learning_rate)\n",
    "Context.local.learningPhase = .training\n",
    "var vals = [Float]()\n",
    "for _ in 0..<num_iter {\n",
    "    let (ŷ, backprop) = classifier.appliedForBackpropagation(to: x)\n",
    "    let (loss, 𝛁ŷ) = valueWithGradient(at: ŷ) { ŷ in l2Loss(predicted: ŷ, expected: y) }\n",
    "    //print(\"Model output: \\(ŷ), Loss: \\(loss)\")\n",
    "    let val: Float = Float(loss.makeNumpyArray().flatten()[0])!\n",
    "    vals.append(val)\n",
    "    //print(\"\\(String(format:\"%.2e\", val))\", terminator: \" \")\n",
    "    let (𝛁model, _) = backprop(𝛁ŷ)\n",
    "    optimizer.update(&classifier, along: 𝛁model)\n",
    "}\n",
    "all_vals.append(vals)"
   ]
  },
  {
   "cell_type": "code",
   "execution_count": 8,
   "metadata": {},
   "outputs": [],
   "source": [
    "var classifier = Q8Model()\n",
    "let optimizer = SGD(for: classifier, learningRate: learning_rate)\n",
    "Context.local.learningPhase = .training\n",
    "var vals = [Float]()\n",
    "for _ in 0..<num_iter {\n",
    "    let (ŷ, backprop) = classifier.appliedForBackpropagation(to: x)\n",
    "    let (loss, 𝛁ŷ) = valueWithGradient(at: ŷ) { ŷ in l2Loss(predicted: ŷ, expected: y) }\n",
    "    //print(\"Model output: \\(ŷ), Loss: \\(loss)\")\n",
    "    let val: Float = Float(loss.makeNumpyArray().flatten()[0])!\n",
    "    vals.append(val)\n",
    "    //print(\"\\(String(format:\"%.2e\", val))\", terminator: \" \")\n",
    "    let (𝛁model, _) = backprop(𝛁ŷ)\n",
    "    optimizer.update(&classifier, along: 𝛁model)\n",
    "}\n",
    "all_vals.append(vals)"
   ]
  },
  {
   "cell_type": "code",
   "execution_count": 9,
   "metadata": {},
   "outputs": [],
   "source": [
    "var classifier = Q4Model()\n",
    "let optimizer = SGD(for: classifier, learningRate: learning_rate)\n",
    "Context.local.learningPhase = .training\n",
    "var vals = [Float]()\n",
    "for _ in 0..<num_iter {\n",
    "    let (ŷ, backprop) = classifier.appliedForBackpropagation(to: x)\n",
    "    let (loss, 𝛁ŷ) = valueWithGradient(at: ŷ) { ŷ in l2Loss(predicted: ŷ, expected: y) }\n",
    "    //print(\"Model output: \\(ŷ), Loss: \\(loss)\")\n",
    "    let val: Float = Float(loss.makeNumpyArray().flatten()[0])!\n",
    "    vals.append(val)\n",
    "    //print(\"\\(String(format:\"%.2e\", val))\", terminator: \" \")\n",
    "    let (𝛁model, _) = backprop(𝛁ŷ)\n",
    "    optimizer.update(&classifier, along: 𝛁model)\n",
    "}\n",
    "all_vals.append(vals)"
   ]
  },
  {
   "cell_type": "code",
   "execution_count": 10,
   "metadata": {},
   "outputs": [],
   "source": [
    "var classifier = Q2Model()\n",
    "let optimizer = SGD(for: classifier, learningRate: learning_rate)\n",
    "Context.local.learningPhase = .training\n",
    "var vals = [Float]()\n",
    "for _ in 0..<num_iter {\n",
    "    let (ŷ, backprop) = classifier.appliedForBackpropagation(to: x)\n",
    "    let (loss, 𝛁ŷ) = valueWithGradient(at: ŷ) { ŷ in l2Loss(predicted: ŷ, expected: y) }\n",
    "    //print(\"Model output: \\(ŷ), Loss: \\(loss)\")\n",
    "    let val: Float = Float(loss.makeNumpyArray().flatten()[0])!\n",
    "    vals.append(val)\n",
    "    //print(\"\\(String(format:\"%.2e\", val))\", terminator: \" \")\n",
    "    let (𝛁model, _) = backprop(𝛁ŷ)\n",
    "    optimizer.update(&classifier, along: 𝛁model)\n",
    "}\n",
    "all_vals.append(vals)"
   ]
  },
  {
   "cell_type": "code",
   "execution_count": 11,
   "metadata": {},
   "outputs": [],
   "source": [
    "var classifier = Q1Model()\n",
    "let optimizer = SGD(for: classifier, learningRate: learning_rate)\n",
    "Context.local.learningPhase = .training\n",
    "var vals = [Float]()\n",
    "for _ in 0..<num_iter {\n",
    "    let (ŷ, backprop) = classifier.appliedForBackpropagation(to: x)\n",
    "    let (loss, 𝛁ŷ) = valueWithGradient(at: ŷ) { ŷ in l2Loss(predicted: ŷ, expected: y) }\n",
    "    //print(\"Model output: \\(ŷ), Loss: \\(loss)\")\n",
    "    let val: Float = Float(loss.makeNumpyArray().flatten()[0])!\n",
    "    vals.append(val)\n",
    "    //print(\"\\(String(format:\"%.2e\", val))\", terminator: \" \")\n",
    "    let (𝛁model, _) = backprop(𝛁ŷ)\n",
    "    optimizer.update(&classifier, along: 𝛁model)\n",
    "}\n",
    "all_vals.append(vals)"
   ]
  },
  {
   "cell_type": "code",
   "execution_count": 12,
   "metadata": {},
   "outputs": [
    {
     "data": {
      "image/png": "[encoded data removed]",
      "text/plain": [
       "<Figure size 504x360 with 1 Axes>"
      ]
     },
     "metadata": {
      "needs_background": "light"
     },
     "output_type": "display_data"
    },
    {
     "data": {
      "text/plain": [
       "None\n"
      ]
     },
     "execution_count": 12,
     "metadata": {},
     "output_type": "execute_result"
    }
   ],
   "source": [
    "var fig = plt.figure(figsize: [7, 5])\n",
    "plt.plot(all_vals[0])\n",
    "plt.plot(all_vals[1])\n",
    "//plt.plot(all_vals[2])\n",
    "//plt.plot(all_vals[3])\n",
    "plt.yscale(\"log\")\n",
    "plt.show() //fig.savefig(\"t.png\")"
   ]
  },
  {
   "cell_type": "code",
   "execution_count": null,
   "metadata": {},
   "outputs": [],
   "source": []
  }
 ],
 "metadata": {
  "kernelspec": {
   "display_name": "Swift",
   "language": "swift",
   "name": "swift"
  },
  "language_info": {
   "file_extension": ".swift",
   "mimetype": "text/x-swift",
   "name": "swift",
   "version": ""
  }
 },
 "nbformat": 4,
 "nbformat_minor": 4
}
