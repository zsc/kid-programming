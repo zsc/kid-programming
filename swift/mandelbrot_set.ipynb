{
 "cells": [
  {
   "cell_type": "code",
   "execution_count": 1,
   "metadata": {},
   "outputs": [
    {
     "name": "stdout",
     "output_type": "stream",
     "text": [
      "3.6.9 (default, Apr 18 2020, 01:56:04) \r\n",
      "[GCC 8.4.0]\r\n"
     ]
    }
   ],
   "source": [
    "%include \"EnableIPythonDisplay.swift\"\n",
    "print(Python.version)"
   ]
  },
  {
   "cell_type": "code",
   "execution_count": 2,
   "metadata": {},
   "outputs": [],
   "source": [
    "import Foundation\n",
    "import TensorFlow\n",
    "\n",
    "struct Complex {\n",
    "    var real: Double\n",
    "    var imag: Double\n",
    "    init(_ r: Double, _ i: Double) {\n",
    "        self.real = r\n",
    "        self.imag = i\n",
    "    }\n",
    "}\n",
    "extension Complex {\n",
    "    public static func +(_ a: Self, _ b: Self) -> Self {\n",
    "        return Self(a.real + b.real, a.imag + b.imag)\n",
    "    }\n",
    "    public static func -(_ a: Self, _ b: Self) -> Self {\n",
    "        return Self(a.real - b.real, a.imag - b.imag)\n",
    "    }\n",
    "    public static func *(_ a: Self, _ b: Self) -> Self {\n",
    "        return Self(a.real * b.real - a.imag * b.imag, a.real * b.imag + a.imag * b.real)\n",
    "    }\n",
    "    public var abs: Double {\n",
    "        return pow(self.real * self.real + self.imag * self.imag, 0.5)\n",
    "    }\n",
    "}\n",
    "\n",
    "func iter(_ c: Complex) -> Int {\n",
    "    let lim = 255\n",
    "    let bound = 10000.0\n",
    "    var z = Complex(0, 0)\n",
    "    for i in 0..<lim {\n",
    "        z = z * z + c\n",
    "        if z.abs > bound {\n",
    "            return i\n",
    "        }\n",
    "    }\n",
    "    return lim\n",
    "}\n",
    "\n",
    "let n = 3000\n",
    "var all_vals = [Tensor<UInt8>]()\n",
    "let inv_n = 1.0 / Double(n)\n",
    "for i in 0...n {\n",
    "    let real = Double(i - n / 2) * inv_n\n",
    "    var vals = [UInt8]()\n",
    "    for j in 0...n {\n",
    "        let imag = Double(j - n / 2) * inv_n\n",
    "        vals.append(UInt8(iter(Complex(real, imag))))\n",
    "    }\n",
    "    all_vals.append(Tensor<UInt8>(vals))\n",
    "}\n",
    "\n",
    "let tensor = Tensor<UInt8>(all_vals)\n",
    "\n",
    "//print((Complex(2, 3) * Complex(4, 5)).abs)"
   ]
  },
  {
   "cell_type": "code",
   "execution_count": 3,
   "metadata": {},
   "outputs": [
    {
     "data": {
      "image/png": "[encoded data removed]",
      "text/plain": [
       "<Figure size 432x288 with 1 Axes>"
      ]
     },
     "metadata": {
      "needs_background": "light"
     },
     "output_type": "display_data"
    },
    {
     "data": {
      "text/plain": [
       "None\n"
      ]
     },
     "execution_count": 3,
     "metadata": {},
     "output_type": "execute_result"
    }
   ],
   "source": [
    "%include \"EnableIPythonDisplay.swift\"\n",
    "let plt = Python.import(\"matplotlib.pyplot\")\n",
    "IPythonDisplay.shell.enable_matplotlib(\"inline\")\n",
    "let fig = plt.figure()\n",
    "plt.imshow(tensor.makeNumpyArray())\n",
    "plt.show()\n",
    "fig.savefig(\"t.png\")"
   ]
  },
  {
   "cell_type": "code",
   "execution_count": null,
   "metadata": {},
   "outputs": [],
   "source": []
  }
 ],
 "metadata": {
  "kernelspec": {
   "display_name": "Swift",
   "language": "swift",
   "name": "swift"
  },
  "language_info": {
   "file_extension": ".swift",
   "mimetype": "text/x-swift",
   "name": "swift",
   "version": ""
  }
 },
 "nbformat": 4,
 "nbformat_minor": 4
}
