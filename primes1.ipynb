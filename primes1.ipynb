{
 "cells": [
  {
   "cell_type": "code",
   "execution_count": 3,
   "metadata": {},
   "outputs": [],
   "source": [
    "import numpy as np\n",
    "\n",
    "def 范围(m, n):\n",
    "  return range(m, n+1)\n",
    "\n",
    "def 能整除(i, n):\n",
    "  return n%i == 0\n",
    "\n",
    "def 因数(n):\n",
    "  for i in 范围(1, n):\n",
    "    if 能整除(i,n): yield i\n",
    "\n",
    "def 公因数(m, n):\n",
    "  for i in range(1, min(m,n)+1):\n",
    "    if 能整除(i, n) and 能整除(i, m): yield i\n",
    "\n",
    "def 最大公因数(m, n):\n",
    "  return max(公因数(m, n))\n",
    "\n",
    "def 最小公倍数(m, n):\n",
    "  return m*n//最大公因数(m,n)\n",
    "\n",
    "互质 = lambda m, n: 最大公因数(m, n) == 1\n",
    "\n",
    "def 互质的数(n):\n",
    "  for i in range(1, n+1):\n",
    "    if 互质(i, n): yield i\n",
    "\n",
    "#欧拉函数 = lambda n: len(list(互质的数(n)))\n",
    "def 欧拉函数(n):\n",
    "    if n == 1: return 1\n",
    "    for i in range(2, int(np.ceil(np.sqrt(n)))):\n",
    "        if n%i == 0:\n",
    "            k = 1; n2 = n // i\n",
    "            while n2 % i == 0:\n",
    "                k += 1; n2 = n2 // i\n",
    "            return (i ** k - i ** (k-1)) * 欧拉函数(n2)\n",
    "    return n - 1\n",
    "\n",
    "def 快速指数同余(a, k, n):\n",
    "  if k == 0: return 1\n",
    "  if k%2 == 0:\n",
    "    return (快速指数同余(a, k//2, n) ** 2) % n\n",
    "  else:\n",
    "    return (a * ((快速指数同余(a, k//2, n) ** 2) % n)) % n\n",
    "\n",
    "def 模反元素(a, n):\n",
    "  return 快速指数同余(a, 欧拉函数(n) - 1, n)\n",
    "\n",
    "def 得到RSA加解密方法(p=61, q=53):\n",
    "  n = p * q\n",
    "  phi = 欧拉函数(p) * 欧拉函数(q)\n",
    "  def 选e(p, q):\n",
    "    while True:\n",
    "      e = np.random.choice(range(2, phi))\n",
    "      if 互质(e, phi): return e\n",
    "\n",
    "  e = 选e(p, q)\n",
    "  d = 模反元素(e, phi)\n",
    "  def 加密(m):\n",
    "    return 快速指数同余(m, e, n)\n",
    "  def 解密(c):\n",
    "    return 快速指数同余(c, d, n)\n",
    "  return 加密, 解密"
   ]
  },
  {
   "cell_type": "code",
   "execution_count": 4,
   "metadata": {},
   "outputs": [
    {
     "name": "stdout",
     "output_type": "stream",
     "text": [
      "输入明文：23\n",
      "密文:  721238\n",
      "解密后明文:  23\n"
     ]
    }
   ],
   "source": [
    "加密, 解密 = 得到RSA加解密方法(991, 997)\n",
    "m = int(input('输入明文：'))\n",
    "#print('明文: ', m)\n",
    "print('密文: ', 加密(m))\n",
    "print('解密后明文: ', 解密(加密(m)))"
   ]
  },
  {
   "cell_type": "code",
   "execution_count": null,
   "metadata": {},
   "outputs": [],
   "source": []
  }
 ],
 "metadata": {
  "kernelspec": {
   "display_name": "Python 3",
   "language": "python",
   "name": "python3"
  },
  "language_info": {
   "codemirror_mode": {
    "name": "ipython",
    "version": 3
   },
   "file_extension": ".py",
   "mimetype": "text/x-python",
   "name": "python",
   "nbconvert_exporter": "python",
   "pygments_lexer": "ipython3",
   "version": "3.6.10"
  }
 },
 "nbformat": 4,
 "nbformat_minor": 4
}
